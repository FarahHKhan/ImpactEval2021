{
  "nbformat": 4,
  "nbformat_minor": 0,
  "metadata": {
    "colab": {
      "name": "ImpactEval&CBA - Merging Data Files ",
      "provenance": []
    },
    "kernelspec": {
      "name": "python3",
      "display_name": "Python 3"
    }
  },
  "cells": [
    {
      "cell_type": "code",
      "metadata": {
        "id": "QtbtNifvl8zf"
      },
      "source": [
        "# Importing libraries\n",
        "\n",
        "import pandas as pd\n",
        "import numpy as np"
      ],
      "execution_count": null,
      "outputs": []
    },
    {
      "cell_type": "code",
      "metadata": {
        "id": "rm_mTj7Zmotk",
        "colab": {
          "resources": {
            "http://localhost:8080/nbextensions/google.colab/files.js": {
              "data": "Ly8gQ29weXJpZ2h0IDIwMTcgR29vZ2xlIExMQwovLwovLyBMaWNlbnNlZCB1bmRlciB0aGUgQXBhY2hlIExpY2Vuc2UsIFZlcnNpb24gMi4wICh0aGUgIkxpY2Vuc2UiKTsKLy8geW91IG1heSBub3QgdXNlIHRoaXMgZmlsZSBleGNlcHQgaW4gY29tcGxpYW5jZSB3aXRoIHRoZSBMaWNlbnNlLgovLyBZb3UgbWF5IG9idGFpbiBhIGNvcHkgb2YgdGhlIExpY2Vuc2UgYXQKLy8KLy8gICAgICBodHRwOi8vd3d3LmFwYWNoZS5vcmcvbGljZW5zZXMvTElDRU5TRS0yLjAKLy8KLy8gVW5sZXNzIHJlcXVpcmVkIGJ5IGFwcGxpY2FibGUgbGF3IG9yIGFncmVlZCB0byBpbiB3cml0aW5nLCBzb2Z0d2FyZQovLyBkaXN0cmlidXRlZCB1bmRlciB0aGUgTGljZW5zZSBpcyBkaXN0cmlidXRlZCBvbiBhbiAiQVMgSVMiIEJBU0lTLAovLyBXSVRIT1VUIFdBUlJBTlRJRVMgT1IgQ09ORElUSU9OUyBPRiBBTlkgS0lORCwgZWl0aGVyIGV4cHJlc3Mgb3IgaW1wbGllZC4KLy8gU2VlIHRoZSBMaWNlbnNlIGZvciB0aGUgc3BlY2lmaWMgbGFuZ3VhZ2UgZ292ZXJuaW5nIHBlcm1pc3Npb25zIGFuZAovLyBsaW1pdGF0aW9ucyB1bmRlciB0aGUgTGljZW5zZS4KCi8qKgogKiBAZmlsZW92ZXJ2aWV3IEhlbHBlcnMgZm9yIGdvb2dsZS5jb2xhYiBQeXRob24gbW9kdWxlLgogKi8KKGZ1bmN0aW9uKHNjb3BlKSB7CmZ1bmN0aW9uIHNwYW4odGV4dCwgc3R5bGVBdHRyaWJ1dGVzID0ge30pIHsKICBjb25zdCBlbGVtZW50ID0gZG9jdW1lbnQuY3JlYXRlRWxlbWVudCgnc3BhbicpOwogIGVsZW1lbnQudGV4dENvbnRlbnQgPSB0ZXh0OwogIGZvciAoY29uc3Qga2V5IG9mIE9iamVjdC5rZXlzKHN0eWxlQXR0cmlidXRlcykpIHsKICAgIGVsZW1lbnQuc3R5bGVba2V5XSA9IHN0eWxlQXR0cmlidXRlc1trZXldOwogIH0KICByZXR1cm4gZWxlbWVudDsKfQoKLy8gTWF4IG51bWJlciBvZiBieXRlcyB3aGljaCB3aWxsIGJlIHVwbG9hZGVkIGF0IGEgdGltZS4KY29uc3QgTUFYX1BBWUxPQURfU0laRSA9IDEwMCAqIDEwMjQ7CgpmdW5jdGlvbiBfdXBsb2FkRmlsZXMoaW5wdXRJZCwgb3V0cHV0SWQpIHsKICBjb25zdCBzdGVwcyA9IHVwbG9hZEZpbGVzU3RlcChpbnB1dElkLCBvdXRwdXRJZCk7CiAgY29uc3Qgb3V0cHV0RWxlbWVudCA9IGRvY3VtZW50LmdldEVsZW1lbnRCeUlkKG91dHB1dElkKTsKICAvLyBDYWNoZSBzdGVwcyBvbiB0aGUgb3V0cHV0RWxlbWVudCB0byBtYWtlIGl0IGF2YWlsYWJsZSBmb3IgdGhlIG5leHQgY2FsbAogIC8vIHRvIHVwbG9hZEZpbGVzQ29udGludWUgZnJvbSBQeXRob24uCiAgb3V0cHV0RWxlbWVudC5zdGVwcyA9IHN0ZXBzOwoKICByZXR1cm4gX3VwbG9hZEZpbGVzQ29udGludWUob3V0cHV0SWQpOwp9CgovLyBUaGlzIGlzIHJvdWdobHkgYW4gYXN5bmMgZ2VuZXJhdG9yIChub3Qgc3VwcG9ydGVkIGluIHRoZSBicm93c2VyIHlldCksCi8vIHdoZXJlIHRoZXJlIGFyZSBtdWx0aXBsZSBhc3luY2hyb25vdXMgc3RlcHMgYW5kIHRoZSBQeXRob24gc2lkZSBpcyBnb2luZwovLyB0byBwb2xsIGZvciBjb21wbGV0aW9uIG9mIGVhY2ggc3RlcC4KLy8gVGhpcyB1c2VzIGEgUHJvbWlzZSB0byBibG9jayB0aGUgcHl0aG9uIHNpZGUgb24gY29tcGxldGlvbiBvZiBlYWNoIHN0ZXAsCi8vIHRoZW4gcGFzc2VzIHRoZSByZXN1bHQgb2YgdGhlIHByZXZpb3VzIHN0ZXAgYXMgdGhlIGlucHV0IHRvIHRoZSBuZXh0IHN0ZXAuCmZ1bmN0aW9uIF91cGxvYWRGaWxlc0NvbnRpbnVlKG91dHB1dElkKSB7CiAgY29uc3Qgb3V0cHV0RWxlbWVudCA9IGRvY3VtZW50LmdldEVsZW1lbnRCeUlkKG91dHB1dElkKTsKICBjb25zdCBzdGVwcyA9IG91dHB1dEVsZW1lbnQuc3RlcHM7CgogIGNvbnN0IG5leHQgPSBzdGVwcy5uZXh0KG91dHB1dEVsZW1lbnQubGFzdFByb21pc2VWYWx1ZSk7CiAgcmV0dXJuIFByb21pc2UucmVzb2x2ZShuZXh0LnZhbHVlLnByb21pc2UpLnRoZW4oKHZhbHVlKSA9PiB7CiAgICAvLyBDYWNoZSB0aGUgbGFzdCBwcm9taXNlIHZhbHVlIHRvIG1ha2UgaXQgYXZhaWxhYmxlIHRvIHRoZSBuZXh0CiAgICAvLyBzdGVwIG9mIHRoZSBnZW5lcmF0b3IuCiAgICBvdXRwdXRFbGVtZW50Lmxhc3RQcm9taXNlVmFsdWUgPSB2YWx1ZTsKICAgIHJldHVybiBuZXh0LnZhbHVlLnJlc3BvbnNlOwogIH0pOwp9CgovKioKICogR2VuZXJhdG9yIGZ1bmN0aW9uIHdoaWNoIGlzIGNhbGxlZCBiZXR3ZWVuIGVhY2ggYXN5bmMgc3RlcCBvZiB0aGUgdXBsb2FkCiAqIHByb2Nlc3MuCiAqIEBwYXJhbSB7c3RyaW5nfSBpbnB1dElkIEVsZW1lbnQgSUQgb2YgdGhlIGlucHV0IGZpbGUgcGlja2VyIGVsZW1lbnQuCiAqIEBwYXJhbSB7c3RyaW5nfSBvdXRwdXRJZCBFbGVtZW50IElEIG9mIHRoZSBvdXRwdXQgZGlzcGxheS4KICogQHJldHVybiB7IUl0ZXJhYmxlPCFPYmplY3Q+fSBJdGVyYWJsZSBvZiBuZXh0IHN0ZXBzLgogKi8KZnVuY3Rpb24qIHVwbG9hZEZpbGVzU3RlcChpbnB1dElkLCBvdXRwdXRJZCkgewogIGNvbnN0IGlucHV0RWxlbWVudCA9IGRvY3VtZW50LmdldEVsZW1lbnRCeUlkKGlucHV0SWQpOwogIGlucHV0RWxlbWVudC5kaXNhYmxlZCA9IGZhbHNlOwoKICBjb25zdCBvdXRwdXRFbGVtZW50ID0gZG9jdW1lbnQuZ2V0RWxlbWVudEJ5SWQob3V0cHV0SWQpOwogIG91dHB1dEVsZW1lbnQuaW5uZXJIVE1MID0gJyc7CgogIGNvbnN0IHBpY2tlZFByb21pc2UgPSBuZXcgUHJvbWlzZSgocmVzb2x2ZSkgPT4gewogICAgaW5wdXRFbGVtZW50LmFkZEV2ZW50TGlzdGVuZXIoJ2NoYW5nZScsIChlKSA9PiB7CiAgICAgIHJlc29sdmUoZS50YXJnZXQuZmlsZXMpOwogICAgfSk7CiAgfSk7CgogIGNvbnN0IGNhbmNlbCA9IGRvY3VtZW50LmNyZWF0ZUVsZW1lbnQoJ2J1dHRvbicpOwogIGlucHV0RWxlbWVudC5wYXJlbnRFbGVtZW50LmFwcGVuZENoaWxkKGNhbmNlbCk7CiAgY2FuY2VsLnRleHRDb250ZW50ID0gJ0NhbmNlbCB1cGxvYWQnOwogIGNvbnN0IGNhbmNlbFByb21pc2UgPSBuZXcgUHJvbWlzZSgocmVzb2x2ZSkgPT4gewogICAgY2FuY2VsLm9uY2xpY2sgPSAoKSA9PiB7CiAgICAgIHJlc29sdmUobnVsbCk7CiAgICB9OwogIH0pOwoKICAvLyBXYWl0IGZvciB0aGUgdXNlciB0byBwaWNrIHRoZSBmaWxlcy4KICBjb25zdCBmaWxlcyA9IHlpZWxkIHsKICAgIHByb21pc2U6IFByb21pc2UucmFjZShbcGlja2VkUHJvbWlzZSwgY2FuY2VsUHJvbWlzZV0pLAogICAgcmVzcG9uc2U6IHsKICAgICAgYWN0aW9uOiAnc3RhcnRpbmcnLAogICAgfQogIH07CgogIGNhbmNlbC5yZW1vdmUoKTsKCiAgLy8gRGlzYWJsZSB0aGUgaW5wdXQgZWxlbWVudCBzaW5jZSBmdXJ0aGVyIHBpY2tzIGFyZSBub3QgYWxsb3dlZC4KICBpbnB1dEVsZW1lbnQuZGlzYWJsZWQgPSB0cnVlOwoKICBpZiAoIWZpbGVzKSB7CiAgICByZXR1cm4gewogICAgICByZXNwb25zZTogewogICAgICAgIGFjdGlvbjogJ2NvbXBsZXRlJywKICAgICAgfQogICAgfTsKICB9CgogIGZvciAoY29uc3QgZmlsZSBvZiBmaWxlcykgewogICAgY29uc3QgbGkgPSBkb2N1bWVudC5jcmVhdGVFbGVtZW50KCdsaScpOwogICAgbGkuYXBwZW5kKHNwYW4oZmlsZS5uYW1lLCB7Zm9udFdlaWdodDogJ2JvbGQnfSkpOwogICAgbGkuYXBwZW5kKHNwYW4oCiAgICAgICAgYCgke2ZpbGUudHlwZSB8fCAnbi9hJ30pIC0gJHtmaWxlLnNpemV9IGJ5dGVzLCBgICsKICAgICAgICBgbGFzdCBtb2RpZmllZDogJHsKICAgICAgICAgICAgZmlsZS5sYXN0TW9kaWZpZWREYXRlID8gZmlsZS5sYXN0TW9kaWZpZWREYXRlLnRvTG9jYWxlRGF0ZVN0cmluZygpIDoKICAgICAgICAgICAgICAgICAgICAgICAgICAgICAgICAgICAgJ24vYSd9IC0gYCkpOwogICAgY29uc3QgcGVyY2VudCA9IHNwYW4oJzAlIGRvbmUnKTsKICAgIGxpLmFwcGVuZENoaWxkKHBlcmNlbnQpOwoKICAgIG91dHB1dEVsZW1lbnQuYXBwZW5kQ2hpbGQobGkpOwoKICAgIGNvbnN0IGZpbGVEYXRhUHJvbWlzZSA9IG5ldyBQcm9taXNlKChyZXNvbHZlKSA9PiB7CiAgICAgIGNvbnN0IHJlYWRlciA9IG5ldyBGaWxlUmVhZGVyKCk7CiAgICAgIHJlYWRlci5vbmxvYWQgPSAoZSkgPT4gewogICAgICAgIHJlc29sdmUoZS50YXJnZXQucmVzdWx0KTsKICAgICAgfTsKICAgICAgcmVhZGVyLnJlYWRBc0FycmF5QnVmZmVyKGZpbGUpOwogICAgfSk7CiAgICAvLyBXYWl0IGZvciB0aGUgZGF0YSB0byBiZSByZWFkeS4KICAgIGxldCBmaWxlRGF0YSA9IHlpZWxkIHsKICAgICAgcHJvbWlzZTogZmlsZURhdGFQcm9taXNlLAogICAgICByZXNwb25zZTogewogICAgICAgIGFjdGlvbjogJ2NvbnRpbnVlJywKICAgICAgfQogICAgfTsKCiAgICAvLyBVc2UgYSBjaHVua2VkIHNlbmRpbmcgdG8gYXZvaWQgbWVzc2FnZSBzaXplIGxpbWl0cy4gU2VlIGIvNjIxMTU2NjAuCiAgICBsZXQgcG9zaXRpb24gPSAwOwogICAgd2hpbGUgKHBvc2l0aW9uIDwgZmlsZURhdGEuYnl0ZUxlbmd0aCkgewogICAgICBjb25zdCBsZW5ndGggPSBNYXRoLm1pbihmaWxlRGF0YS5ieXRlTGVuZ3RoIC0gcG9zaXRpb24sIE1BWF9QQVlMT0FEX1NJWkUpOwogICAgICBjb25zdCBjaHVuayA9IG5ldyBVaW50OEFycmF5KGZpbGVEYXRhLCBwb3NpdGlvbiwgbGVuZ3RoKTsKICAgICAgcG9zaXRpb24gKz0gbGVuZ3RoOwoKICAgICAgY29uc3QgYmFzZTY0ID0gYnRvYShTdHJpbmcuZnJvbUNoYXJDb2RlLmFwcGx5KG51bGwsIGNodW5rKSk7CiAgICAgIHlpZWxkIHsKICAgICAgICByZXNwb25zZTogewogICAgICAgICAgYWN0aW9uOiAnYXBwZW5kJywKICAgICAgICAgIGZpbGU6IGZpbGUubmFtZSwKICAgICAgICAgIGRhdGE6IGJhc2U2NCwKICAgICAgICB9LAogICAgICB9OwogICAgICBwZXJjZW50LnRleHRDb250ZW50ID0KICAgICAgICAgIGAke01hdGgucm91bmQoKHBvc2l0aW9uIC8gZmlsZURhdGEuYnl0ZUxlbmd0aCkgKiAxMDApfSUgZG9uZWA7CiAgICB9CiAgfQoKICAvLyBBbGwgZG9uZS4KICB5aWVsZCB7CiAgICByZXNwb25zZTogewogICAgICBhY3Rpb246ICdjb21wbGV0ZScsCiAgICB9CiAgfTsKfQoKc2NvcGUuZ29vZ2xlID0gc2NvcGUuZ29vZ2xlIHx8IHt9OwpzY29wZS5nb29nbGUuY29sYWIgPSBzY29wZS5nb29nbGUuY29sYWIgfHwge307CnNjb3BlLmdvb2dsZS5jb2xhYi5fZmlsZXMgPSB7CiAgX3VwbG9hZEZpbGVzLAogIF91cGxvYWRGaWxlc0NvbnRpbnVlLAp9Owp9KShzZWxmKTsK",
              "ok": true,
              "headers": [
                [
                  "content-type",
                  "application/javascript"
                ]
              ],
              "status": 200,
              "status_text": ""
            }
          },
          "base_uri": "https://localhost:8080/",
          "height": 106
        },
        "outputId": "dbbe46fe-f3ea-4b8f-d1d5-a45264ebefd8"
      },
      "source": [
        "# Importing - All Parts - CSV\n",
        "from google.colab import files  \n",
        "uploaded = files.upload()\n",
        "import pandas as pd \n",
        "import io \n",
        "\n"
      ],
      "execution_count": null,
      "outputs": [
        {
          "output_type": "display_data",
          "data": {
            "text/html": [
              "\n",
              "     <input type=\"file\" id=\"files-577169a1-eb4c-4091-9c1b-ed413e3e07f5\" name=\"files[]\" multiple disabled\n",
              "        style=\"border:none\" />\n",
              "     <output id=\"result-577169a1-eb4c-4091-9c1b-ed413e3e07f5\">\n",
              "      Upload widget is only available when the cell has been executed in the\n",
              "      current browser session. Please rerun this cell to enable.\n",
              "      </output>\n",
              "      <script src=\"/nbextensions/google.colab/files.js\"></script> "
            ],
            "text/plain": [
              "<IPython.core.display.HTML object>"
            ]
          },
          "metadata": {
            "tags": []
          }
        },
        {
          "output_type": "stream",
          "text": [
            "Saving WholeQuant_Non_Open_Grid.csv to WholeQuant_Non_Open_Grid.csv\n",
            "Saving WholeQuant_OpenGrid.csv to WholeQuant_OpenGrid.csv\n"
          ],
          "name": "stdout"
        }
      ]
    },
    {
      "cell_type": "code",
      "metadata": {
        "id": "oH4HV9Xv0ALV",
        "colab": {
          "base_uri": "https://localhost:8080/"
        },
        "outputId": "c392dbee-8b7e-4f0e-a616-2a440d4082df"
      },
      "source": [
        "#Naming the dataframes\n",
        "\n",
        "#7 Datasets need to be merged - 2 horizontally to each other, 3x and 1 piece at the end\n",
        "#Og - Open Gride \n",
        "#nog - Non-Open Grid\n",
        "\n",
        "df1_og = pd.read_csv('Part_1_Open_Grid.csv', encoding= 'unicode_escape')\n",
        "df1_nog = pd.read_csv('Part_1_Non-Open_Grid.csv', encoding= 'unicode_escape')\n",
        "print (df1_og)\n",
        "print (df1_nog)\n",
        "\n",
        "df2_og = pd.read_csv('Part_2_Open_Grid.csv', encoding= 'unicode_escape')\n",
        "df2_nog = pd.read_csv('Part_2_Non-Open_Grid.csv', encoding= 'unicode_escape')\n",
        "print (df2_og)\n",
        "print (df2_nog)\n",
        "\n",
        "df3_og = pd.read_csv('Part_3_Open_Grid.csv', encoding= 'unicode_escape')\n",
        "df3_nog = pd.read_csv('Part_3_Non-Open_Grid.csv', encoding= 'unicode_escape')\n",
        "print (df3_og)\n",
        "print (df3_nog)\n",
        "\n",
        "wq_og = pd.read_csv('WholeQuant_OpenGrid.csv', encoding= 'unicode_escape')\n",
        "wq_nog = pd.read_csv('WholeQuant_Non_Open_Grid.csv', encoding= 'unicode_escape')\n",
        "print (wq_og)\n",
        "print (wq_nog)\n",
        "\n"
      ],
      "execution_count": null,
      "outputs": [
        {
          "output_type": "stream",
          "text": [
            "                    AnswerID  ...                                            209_0_3\n",
            "0                   AnswerID  ...  Financial Effect of Covid , Row: Amount (in BD...\n",
            "1   5f6b2d18fe97df4caf4a8a87  ...                                               7500\n",
            "2   5f6b3175fe97df4f3f1b4b94  ...                                               2500\n",
            "3   5f6b2d18fe97df4caf4a8a87  ...                                               7500\n",
            "4   5f6b7666fe97df51bd097364  ...                                               8000\n",
            "5   5f6b3265fe97df503926c882  ...                                               5000\n",
            "6   5f6d3a9dfe97df74b5776a33  ...                                               2500\n",
            "7   5f6b332afe97df50385f6af2  ...                                              10000\n",
            "8   5f6b9d59fe97df563f6ec1c2  ...                                               6000\n",
            "9   5f709258fe97df3e921a4bf3  ...                                              30000\n",
            "10  5f74927afe97df0e65632c03  ...                                               2000\n",
            "11  5f6f50bafe97df1bf61677c2  ...                                              18000\n",
            "12  5f6e2ad0fe97df055c1dc6a6  ...                                                NaN\n",
            "\n",
            "[13 rows x 747 columns]\n",
            "                    AnswerID  ...                                                230\n",
            "0                   AnswerID  ...  Can you elaborate the reasons why your healthc...\n",
            "1   5f6b2d18fe97df4caf4a8a87  ...                                                yes\n",
            "2   5f6b3175fe97df4f3f1b4b94  ...                                                 No\n",
            "3   5f6b2d18fe97df4caf4a8a87  ...                                                yes\n",
            "4   5f6b7666fe97df51bd097364  ...                           because of safety issues\n",
            "5   5f6b3265fe97df503926c882  ...                                  Transport seystem\n",
            "6   5f6d3a9dfe97df74b5776a33  ...                                 Cause of covid -19\n",
            "7   5f6b332afe97df50385f6af2  ...                                                 No\n",
            "8   5f6b9d59fe97df563f6ec1c2  ...                                                NaN\n",
            "9   5f709258fe97df3e921a4bf3  ...                                        Not reduced\n",
            "10  5f74927afe97df0e65632c03  ...                                     Not applicable\n",
            "11  5f6f50bafe97df1bf61677c2  ...                                                NaN\n",
            "12  5f6e2ad0fe97df055c1dc6a6  ...                                                NaN\n",
            "\n",
            "[13 rows x 168 columns]\n"
          ],
          "name": "stdout"
        }
      ]
    },
    {
      "cell_type": "code",
      "metadata": {
        "id": "AnOJtcYv0EiD"
      },
      "source": [
        "#Removing Duplicates - Part 1, 2,3 - Open Grid & Closed Grid\n",
        "#Do each individually and check the dataframes \n",
        "\n",
        "df1_og_nd=pd.DataFrame.drop_duplicates(df1_og)\n",
        "df1_nog_nd=pd.DataFrame.drop_duplicates(df1_nog)\n",
        "print (df1_og_nd)\n",
        "print (df1_nog_nd)\n",
        "\n",
        "df2_og_nd=pd.DataFrame.drop_duplicates(df2_og)\n",
        "df2_nog_nd=pd.DataFrame.drop_duplicates(df2_nog)\n",
        "print (df2_og_nd)\n",
        "print (df2_nog_nd)\n",
        "\n",
        "df3_og_nd=pd.DataFrame.drop_duplicates(df3_og)\n",
        "df3_nog_nd=pd.DataFrame.drop_duplicates(df3_nog)\n",
        "print (df3_og_nd)\n",
        "print (df3_nog_nd)\n",
        "\n",
        "wq_og = pd.DataFrame.drop_duplicates(wq_og)\n",
        "wq_nog = pd.DataFrame.drop_duplicates(wq_nog)\n",
        "\n"
      ],
      "execution_count": null,
      "outputs": []
    },
    {
      "cell_type": "code",
      "metadata": {
        "id": "nmjkdWkUm8VX",
        "colab": {
          "base_uri": "https://localhost:8080/"
        },
        "outputId": "49267b45-8c34-476e-d470-a42a69af929e"
      },
      "source": [
        "# Merging Open Grid and Non-Open Grid - Part 1,2,3, and whole Quant\n",
        "df1_Nov1 = pd.merge(df1_nog_nd, df1_og_nd, how = 'inner', on = ['AnswerID'])\n",
        "print(df1_Nov1)\n",
        "\n",
        "df2_Nov1 = pd.merge(df2_nog_nd, df2_og_nd, how = 'inner', on = ['AnswerID'])\n",
        "print(df2_Nov1)\n",
        "\n",
        "df3_Nov1 = pd.merge(df3_nog_nd, df3_og_nd, how = 'inner', on = ['AnswerID'])\n",
        "print(df3_Nov1)\n",
        "\n",
        "wq_Nov1 = pd.merge(wq_nog, wq_og, how = 'inner', on = ['AnswerID'])\n",
        "print(wq_Nov1)\n",
        "for col in wq_Nov1.columns: \n",
        "    print(col) \n"
      ],
      "execution_count": null,
      "outputs": [
        {
          "output_type": "stream",
          "text": [
            "                    AnswerID  ...                                            209_0_3\n",
            "0                   AnswerID  ...  Financial Effect of Covid , Row: Amount (in BD...\n",
            "1   5f6b2d18fe97df4caf4a8a87  ...                                               7500\n",
            "2   5f6b3175fe97df4f3f1b4b94  ...                                               2500\n",
            "3   5f6b7666fe97df51bd097364  ...                                               8000\n",
            "4   5f6b3265fe97df503926c882  ...                                               5000\n",
            "5   5f6d3a9dfe97df74b5776a33  ...                                               2500\n",
            "6   5f6b332afe97df50385f6af2  ...                                              10000\n",
            "7   5f6b9d59fe97df563f6ec1c2  ...                                               6000\n",
            "8   5f709258fe97df3e921a4bf3  ...                                              30000\n",
            "9   5f74927afe97df0e65632c03  ...                                               2000\n",
            "10  5f6f50bafe97df1bf61677c2  ...                                              18000\n",
            "11  5f6e2ad0fe97df055c1dc6a6  ...                                                NaN\n",
            "\n",
            "[12 rows x 914 columns]\n"
          ],
          "name": "stdout"
        }
      ]
    },
    {
      "cell_type": "code",
      "metadata": {
        "id": "NZKAzWMbKUJI",
        "colab": {
          "base_uri": "https://localhost:8080/"
        },
        "outputId": "98ca0def-a49f-4806-f11e-5f8019eeb823"
      },
      "source": [
        "wq_Nov1_for=wq_Nov1.drop(wq_Nov1[wq_Nov1['2'] == 'Test'].index)\n",
        "print(wq_Nov1_for)"
      ],
      "execution_count": null,
      "outputs": [
        {
          "output_type": "stream",
          "text": [
            "                    AnswerID  ...                                            209_0_3\n",
            "0                   AnswerID  ...  Financial Effect of Covid , Row: Amount (in BD...\n",
            "1   5f6b2d18fe97df4caf4a8a87  ...                                               7500\n",
            "2   5f6b3175fe97df4f3f1b4b94  ...                                               2500\n",
            "3   5f6b7666fe97df51bd097364  ...                                               8000\n",
            "4   5f6b3265fe97df503926c882  ...                                               5000\n",
            "5   5f6d3a9dfe97df74b5776a33  ...                                               2500\n",
            "6   5f6b332afe97df50385f6af2  ...                                              10000\n",
            "7   5f6b9d59fe97df563f6ec1c2  ...                                               6000\n",
            "8   5f709258fe97df3e921a4bf3  ...                                              30000\n",
            "9   5f74927afe97df0e65632c03  ...                                               2000\n",
            "10  5f6f50bafe97df1bf61677c2  ...                                              18000\n",
            "\n",
            "[11 rows x 914 columns]\n"
          ],
          "name": "stdout"
        }
      ]
    },
    {
      "cell_type": "code",
      "metadata": {
        "id": "r_kwfjXDBVTB"
      },
      "source": [
        "# Export Dataframes to .CSV\n",
        "df1_Nov1.to_csv('df1_Nov1.csv')\n",
        "df2_Nov1.to_csv('df2_Nov1.csv')\n",
        "df3_Nov1.to_csv('df3_Nov1.csv')"
      ],
      "execution_count": null,
      "outputs": []
    },
    {
      "cell_type": "code",
      "metadata": {
        "id": "LoRLBhcpnanp"
      },
      "source": [
        "# Export Whole Quant to .csv\n",
        "wq_Nov1_for.to_csv('dfwq_Nov3.csv')"
      ],
      "execution_count": null,
      "outputs": []
    }
  ]
}