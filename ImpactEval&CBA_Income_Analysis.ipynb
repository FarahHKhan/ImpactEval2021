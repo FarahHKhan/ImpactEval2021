{
  "nbformat": 4,
  "nbformat_minor": 0,
  "metadata": {
    "colab": {
      "name": "ImpactEval&CBA - Income Analysis",
      "provenance": []
    },
    "kernelspec": {
      "name": "python3",
      "display_name": "Python 3"
    }
  },
  "cells": [
    {
      "cell_type": "code",
      "metadata": {
        "id": "-4zWh5h88hT5"
      },
      "source": [
        "# Importing libraries\n",
        "\n",
        "import pandas as pd\n",
        "import numpy as np"
      ],
      "execution_count": null,
      "outputs": []
    },
    {
      "cell_type": "code",
      "metadata": {
        "colab": {
          "resources": {
            "http://localhost:8080/nbextensions/google.colab/files.js": {
              "data": "Ly8gQ29weXJpZ2h0IDIwMTcgR29vZ2xlIExMQwovLwovLyBMaWNlbnNlZCB1bmRlciB0aGUgQXBhY2hlIExpY2Vuc2UsIFZlcnNpb24gMi4wICh0aGUgIkxpY2Vuc2UiKTsKLy8geW91IG1heSBub3QgdXNlIHRoaXMgZmlsZSBleGNlcHQgaW4gY29tcGxpYW5jZSB3aXRoIHRoZSBMaWNlbnNlLgovLyBZb3UgbWF5IG9idGFpbiBhIGNvcHkgb2YgdGhlIExpY2Vuc2UgYXQKLy8KLy8gICAgICBodHRwOi8vd3d3LmFwYWNoZS5vcmcvbGljZW5zZXMvTElDRU5TRS0yLjAKLy8KLy8gVW5sZXNzIHJlcXVpcmVkIGJ5IGFwcGxpY2FibGUgbGF3IG9yIGFncmVlZCB0byBpbiB3cml0aW5nLCBzb2Z0d2FyZQovLyBkaXN0cmlidXRlZCB1bmRlciB0aGUgTGljZW5zZSBpcyBkaXN0cmlidXRlZCBvbiBhbiAiQVMgSVMiIEJBU0lTLAovLyBXSVRIT1VUIFdBUlJBTlRJRVMgT1IgQ09ORElUSU9OUyBPRiBBTlkgS0lORCwgZWl0aGVyIGV4cHJlc3Mgb3IgaW1wbGllZC4KLy8gU2VlIHRoZSBMaWNlbnNlIGZvciB0aGUgc3BlY2lmaWMgbGFuZ3VhZ2UgZ292ZXJuaW5nIHBlcm1pc3Npb25zIGFuZAovLyBsaW1pdGF0aW9ucyB1bmRlciB0aGUgTGljZW5zZS4KCi8qKgogKiBAZmlsZW92ZXJ2aWV3IEhlbHBlcnMgZm9yIGdvb2dsZS5jb2xhYiBQeXRob24gbW9kdWxlLgogKi8KKGZ1bmN0aW9uKHNjb3BlKSB7CmZ1bmN0aW9uIHNwYW4odGV4dCwgc3R5bGVBdHRyaWJ1dGVzID0ge30pIHsKICBjb25zdCBlbGVtZW50ID0gZG9jdW1lbnQuY3JlYXRlRWxlbWVudCgnc3BhbicpOwogIGVsZW1lbnQudGV4dENvbnRlbnQgPSB0ZXh0OwogIGZvciAoY29uc3Qga2V5IG9mIE9iamVjdC5rZXlzKHN0eWxlQXR0cmlidXRlcykpIHsKICAgIGVsZW1lbnQuc3R5bGVba2V5XSA9IHN0eWxlQXR0cmlidXRlc1trZXldOwogIH0KICByZXR1cm4gZWxlbWVudDsKfQoKLy8gTWF4IG51bWJlciBvZiBieXRlcyB3aGljaCB3aWxsIGJlIHVwbG9hZGVkIGF0IGEgdGltZS4KY29uc3QgTUFYX1BBWUxPQURfU0laRSA9IDEwMCAqIDEwMjQ7CgpmdW5jdGlvbiBfdXBsb2FkRmlsZXMoaW5wdXRJZCwgb3V0cHV0SWQpIHsKICBjb25zdCBzdGVwcyA9IHVwbG9hZEZpbGVzU3RlcChpbnB1dElkLCBvdXRwdXRJZCk7CiAgY29uc3Qgb3V0cHV0RWxlbWVudCA9IGRvY3VtZW50LmdldEVsZW1lbnRCeUlkKG91dHB1dElkKTsKICAvLyBDYWNoZSBzdGVwcyBvbiB0aGUgb3V0cHV0RWxlbWVudCB0byBtYWtlIGl0IGF2YWlsYWJsZSBmb3IgdGhlIG5leHQgY2FsbAogIC8vIHRvIHVwbG9hZEZpbGVzQ29udGludWUgZnJvbSBQeXRob24uCiAgb3V0cHV0RWxlbWVudC5zdGVwcyA9IHN0ZXBzOwoKICByZXR1cm4gX3VwbG9hZEZpbGVzQ29udGludWUob3V0cHV0SWQpOwp9CgovLyBUaGlzIGlzIHJvdWdobHkgYW4gYXN5bmMgZ2VuZXJhdG9yIChub3Qgc3VwcG9ydGVkIGluIHRoZSBicm93c2VyIHlldCksCi8vIHdoZXJlIHRoZXJlIGFyZSBtdWx0aXBsZSBhc3luY2hyb25vdXMgc3RlcHMgYW5kIHRoZSBQeXRob24gc2lkZSBpcyBnb2luZwovLyB0byBwb2xsIGZvciBjb21wbGV0aW9uIG9mIGVhY2ggc3RlcC4KLy8gVGhpcyB1c2VzIGEgUHJvbWlzZSB0byBibG9jayB0aGUgcHl0aG9uIHNpZGUgb24gY29tcGxldGlvbiBvZiBlYWNoIHN0ZXAsCi8vIHRoZW4gcGFzc2VzIHRoZSByZXN1bHQgb2YgdGhlIHByZXZpb3VzIHN0ZXAgYXMgdGhlIGlucHV0IHRvIHRoZSBuZXh0IHN0ZXAuCmZ1bmN0aW9uIF91cGxvYWRGaWxlc0NvbnRpbnVlKG91dHB1dElkKSB7CiAgY29uc3Qgb3V0cHV0RWxlbWVudCA9IGRvY3VtZW50LmdldEVsZW1lbnRCeUlkKG91dHB1dElkKTsKICBjb25zdCBzdGVwcyA9IG91dHB1dEVsZW1lbnQuc3RlcHM7CgogIGNvbnN0IG5leHQgPSBzdGVwcy5uZXh0KG91dHB1dEVsZW1lbnQubGFzdFByb21pc2VWYWx1ZSk7CiAgcmV0dXJuIFByb21pc2UucmVzb2x2ZShuZXh0LnZhbHVlLnByb21pc2UpLnRoZW4oKHZhbHVlKSA9PiB7CiAgICAvLyBDYWNoZSB0aGUgbGFzdCBwcm9taXNlIHZhbHVlIHRvIG1ha2UgaXQgYXZhaWxhYmxlIHRvIHRoZSBuZXh0CiAgICAvLyBzdGVwIG9mIHRoZSBnZW5lcmF0b3IuCiAgICBvdXRwdXRFbGVtZW50Lmxhc3RQcm9taXNlVmFsdWUgPSB2YWx1ZTsKICAgIHJldHVybiBuZXh0LnZhbHVlLnJlc3BvbnNlOwogIH0pOwp9CgovKioKICogR2VuZXJhdG9yIGZ1bmN0aW9uIHdoaWNoIGlzIGNhbGxlZCBiZXR3ZWVuIGVhY2ggYXN5bmMgc3RlcCBvZiB0aGUgdXBsb2FkCiAqIHByb2Nlc3MuCiAqIEBwYXJhbSB7c3RyaW5nfSBpbnB1dElkIEVsZW1lbnQgSUQgb2YgdGhlIGlucHV0IGZpbGUgcGlja2VyIGVsZW1lbnQuCiAqIEBwYXJhbSB7c3RyaW5nfSBvdXRwdXRJZCBFbGVtZW50IElEIG9mIHRoZSBvdXRwdXQgZGlzcGxheS4KICogQHJldHVybiB7IUl0ZXJhYmxlPCFPYmplY3Q+fSBJdGVyYWJsZSBvZiBuZXh0IHN0ZXBzLgogKi8KZnVuY3Rpb24qIHVwbG9hZEZpbGVzU3RlcChpbnB1dElkLCBvdXRwdXRJZCkgewogIGNvbnN0IGlucHV0RWxlbWVudCA9IGRvY3VtZW50LmdldEVsZW1lbnRCeUlkKGlucHV0SWQpOwogIGlucHV0RWxlbWVudC5kaXNhYmxlZCA9IGZhbHNlOwoKICBjb25zdCBvdXRwdXRFbGVtZW50ID0gZG9jdW1lbnQuZ2V0RWxlbWVudEJ5SWQob3V0cHV0SWQpOwogIG91dHB1dEVsZW1lbnQuaW5uZXJIVE1MID0gJyc7CgogIGNvbnN0IHBpY2tlZFByb21pc2UgPSBuZXcgUHJvbWlzZSgocmVzb2x2ZSkgPT4gewogICAgaW5wdXRFbGVtZW50LmFkZEV2ZW50TGlzdGVuZXIoJ2NoYW5nZScsIChlKSA9PiB7CiAgICAgIHJlc29sdmUoZS50YXJnZXQuZmlsZXMpOwogICAgfSk7CiAgfSk7CgogIGNvbnN0IGNhbmNlbCA9IGRvY3VtZW50LmNyZWF0ZUVsZW1lbnQoJ2J1dHRvbicpOwogIGlucHV0RWxlbWVudC5wYXJlbnRFbGVtZW50LmFwcGVuZENoaWxkKGNhbmNlbCk7CiAgY2FuY2VsLnRleHRDb250ZW50ID0gJ0NhbmNlbCB1cGxvYWQnOwogIGNvbnN0IGNhbmNlbFByb21pc2UgPSBuZXcgUHJvbWlzZSgocmVzb2x2ZSkgPT4gewogICAgY2FuY2VsLm9uY2xpY2sgPSAoKSA9PiB7CiAgICAgIHJlc29sdmUobnVsbCk7CiAgICB9OwogIH0pOwoKICAvLyBXYWl0IGZvciB0aGUgdXNlciB0byBwaWNrIHRoZSBmaWxlcy4KICBjb25zdCBmaWxlcyA9IHlpZWxkIHsKICAgIHByb21pc2U6IFByb21pc2UucmFjZShbcGlja2VkUHJvbWlzZSwgY2FuY2VsUHJvbWlzZV0pLAogICAgcmVzcG9uc2U6IHsKICAgICAgYWN0aW9uOiAnc3RhcnRpbmcnLAogICAgfQogIH07CgogIGNhbmNlbC5yZW1vdmUoKTsKCiAgLy8gRGlzYWJsZSB0aGUgaW5wdXQgZWxlbWVudCBzaW5jZSBmdXJ0aGVyIHBpY2tzIGFyZSBub3QgYWxsb3dlZC4KICBpbnB1dEVsZW1lbnQuZGlzYWJsZWQgPSB0cnVlOwoKICBpZiAoIWZpbGVzKSB7CiAgICByZXR1cm4gewogICAgICByZXNwb25zZTogewogICAgICAgIGFjdGlvbjogJ2NvbXBsZXRlJywKICAgICAgfQogICAgfTsKICB9CgogIGZvciAoY29uc3QgZmlsZSBvZiBmaWxlcykgewogICAgY29uc3QgbGkgPSBkb2N1bWVudC5jcmVhdGVFbGVtZW50KCdsaScpOwogICAgbGkuYXBwZW5kKHNwYW4oZmlsZS5uYW1lLCB7Zm9udFdlaWdodDogJ2JvbGQnfSkpOwogICAgbGkuYXBwZW5kKHNwYW4oCiAgICAgICAgYCgke2ZpbGUudHlwZSB8fCAnbi9hJ30pIC0gJHtmaWxlLnNpemV9IGJ5dGVzLCBgICsKICAgICAgICBgbGFzdCBtb2RpZmllZDogJHsKICAgICAgICAgICAgZmlsZS5sYXN0TW9kaWZpZWREYXRlID8gZmlsZS5sYXN0TW9kaWZpZWREYXRlLnRvTG9jYWxlRGF0ZVN0cmluZygpIDoKICAgICAgICAgICAgICAgICAgICAgICAgICAgICAgICAgICAgJ24vYSd9IC0gYCkpOwogICAgY29uc3QgcGVyY2VudCA9IHNwYW4oJzAlIGRvbmUnKTsKICAgIGxpLmFwcGVuZENoaWxkKHBlcmNlbnQpOwoKICAgIG91dHB1dEVsZW1lbnQuYXBwZW5kQ2hpbGQobGkpOwoKICAgIGNvbnN0IGZpbGVEYXRhUHJvbWlzZSA9IG5ldyBQcm9taXNlKChyZXNvbHZlKSA9PiB7CiAgICAgIGNvbnN0IHJlYWRlciA9IG5ldyBGaWxlUmVhZGVyKCk7CiAgICAgIHJlYWRlci5vbmxvYWQgPSAoZSkgPT4gewogICAgICAgIHJlc29sdmUoZS50YXJnZXQucmVzdWx0KTsKICAgICAgfTsKICAgICAgcmVhZGVyLnJlYWRBc0FycmF5QnVmZmVyKGZpbGUpOwogICAgfSk7CiAgICAvLyBXYWl0IGZvciB0aGUgZGF0YSB0byBiZSByZWFkeS4KICAgIGxldCBmaWxlRGF0YSA9IHlpZWxkIHsKICAgICAgcHJvbWlzZTogZmlsZURhdGFQcm9taXNlLAogICAgICByZXNwb25zZTogewogICAgICAgIGFjdGlvbjogJ2NvbnRpbnVlJywKICAgICAgfQogICAgfTsKCiAgICAvLyBVc2UgYSBjaHVua2VkIHNlbmRpbmcgdG8gYXZvaWQgbWVzc2FnZSBzaXplIGxpbWl0cy4gU2VlIGIvNjIxMTU2NjAuCiAgICBsZXQgcG9zaXRpb24gPSAwOwogICAgd2hpbGUgKHBvc2l0aW9uIDwgZmlsZURhdGEuYnl0ZUxlbmd0aCkgewogICAgICBjb25zdCBsZW5ndGggPSBNYXRoLm1pbihmaWxlRGF0YS5ieXRlTGVuZ3RoIC0gcG9zaXRpb24sIE1BWF9QQVlMT0FEX1NJWkUpOwogICAgICBjb25zdCBjaHVuayA9IG5ldyBVaW50OEFycmF5KGZpbGVEYXRhLCBwb3NpdGlvbiwgbGVuZ3RoKTsKICAgICAgcG9zaXRpb24gKz0gbGVuZ3RoOwoKICAgICAgY29uc3QgYmFzZTY0ID0gYnRvYShTdHJpbmcuZnJvbUNoYXJDb2RlLmFwcGx5KG51bGwsIGNodW5rKSk7CiAgICAgIHlpZWxkIHsKICAgICAgICByZXNwb25zZTogewogICAgICAgICAgYWN0aW9uOiAnYXBwZW5kJywKICAgICAgICAgIGZpbGU6IGZpbGUubmFtZSwKICAgICAgICAgIGRhdGE6IGJhc2U2NCwKICAgICAgICB9LAogICAgICB9OwogICAgICBwZXJjZW50LnRleHRDb250ZW50ID0KICAgICAgICAgIGAke01hdGgucm91bmQoKHBvc2l0aW9uIC8gZmlsZURhdGEuYnl0ZUxlbmd0aCkgKiAxMDApfSUgZG9uZWA7CiAgICB9CiAgfQoKICAvLyBBbGwgZG9uZS4KICB5aWVsZCB7CiAgICByZXNwb25zZTogewogICAgICBhY3Rpb246ICdjb21wbGV0ZScsCiAgICB9CiAgfTsKfQoKc2NvcGUuZ29vZ2xlID0gc2NvcGUuZ29vZ2xlIHx8IHt9OwpzY29wZS5nb29nbGUuY29sYWIgPSBzY29wZS5nb29nbGUuY29sYWIgfHwge307CnNjb3BlLmdvb2dsZS5jb2xhYi5fZmlsZXMgPSB7CiAgX3VwbG9hZEZpbGVzLAogIF91cGxvYWRGaWxlc0NvbnRpbnVlLAp9Owp9KShzZWxmKTsK",
              "ok": true,
              "headers": [
                [
                  "content-type",
                  "application/javascript"
                ]
              ],
              "status": 200,
              "status_text": ""
            }
          },
          "base_uri": "https://localhost:8080/",
          "height": 106
        },
        "id": "VG66K6uC8uSV",
        "outputId": "247a05ae-25a7-4db0-ac71-8cdabfbde62d"
      },
      "source": [
        "# Importing - Part 1,2,3 (Formatted Data from Nov 16)\n",
        "from google.colab import files  \n",
        "  \n",
        "uploaded = files.upload()\n",
        "\n",
        "import pandas as pd \n",
        "import io "
      ],
      "execution_count": null,
      "outputs": [
        {
          "output_type": "display_data",
          "data": {
            "text/html": [
              "\n",
              "     <input type=\"file\" id=\"files-e55f9677-3e22-457f-8f52-eab3615da1a5\" name=\"files[]\" multiple disabled\n",
              "        style=\"border:none\" />\n",
              "     <output id=\"result-e55f9677-3e22-457f-8f52-eab3615da1a5\">\n",
              "      Upload widget is only available when the cell has been executed in the\n",
              "      current browser session. Please rerun this cell to enable.\n",
              "      </output>\n",
              "      <script src=\"/nbextensions/google.colab/files.js\"></script> "
            ],
            "text/plain": [
              "<IPython.core.display.HTML object>"
            ]
          },
          "metadata": {
            "tags": []
          }
        },
        {
          "output_type": "stream",
          "text": [
            "Saving EmploymentIncome_Nov26.csv to EmploymentIncome_Nov26.csv\n",
            "Saving Occupation and Income Stacked - Dec 21_FK_SN.csv to Occupation and Income Stacked - Dec 21_FK_SN.csv\n"
          ],
          "name": "stdout"
        }
      ]
    },
    {
      "cell_type": "code",
      "metadata": {
        "colab": {
          "base_uri": "https://localhost:8080/"
        },
        "id": "QRyUHhZj89b0",
        "outputId": "db6d74a6-4dcb-4b0d-b4bd-65468d7bd8d4"
      },
      "source": [
        "#Naming the dataframes\n",
        "\n",
        "df_1=pd.read_csv('RawData_Nov18_FK.csv', encoding= 'unicode_escape')\n",
        "df_p=pd.read_csv('BRACPrograms_Nov26.csv', encoding= 'unicode_escape')\n",
        "df_i=pd.read_csv('Occupation and Income Stacked - Dec 21_FK_SN.csv', encoding= 'unicode_escape')\n",
        "df_ei=pd.read_csv('EmploymentIncome_Nov26.csv', encoding= 'unicode_escape')\n"
      ],
      "execution_count": null,
      "outputs": [
        {
          "output_type": "stream",
          "text": [
            "/usr/local/lib/python3.6/dist-packages/IPython/core/interactiveshell.py:2718: DtypeWarning: Columns (2,3,4,5,6,7,8,9,10,11,12,13,14,15,16,17,18,19,20,23,24,25,26,27,28,29,30,35,40,41,42,45,46,48,49,50,51,53,54,55,56,63,64,65,66,67,68,71,72,73,74,75,76,77,78,80,81,82,83,84,86,87,88,89,90,91,92,93,94,95,96,99,100,101,102,103,104,105,106,121,122,123,125,126,127,129,135,136,149,160,163,171,172,179,180,181,182,187,188,189,190,191,192,193,194,195,196,197,198,199,200,201,202,203,204,205,206,207,208,209,210,211,212,213,214,215,216,217,218,220,221,222,223,225,226,227,228,229,230,231,232,233,234,235,236,237,238,239,240,241,242,243,244,245,246,247,248,251,252,253,254,255,256,257,260,261,262,263,264,265,266,267,268,269,270,271,272,273,274,275,276,277,278,279,280,281,282,283,284,285,286,287,288,289,290,291,292,293,294,295,296,297,298,299,300,301,302,303,304,305,306,307,308,309,312,313,317,318,320,329,330,331,332,333,334,335,336,337,338,339,340,341,342,343,344,345,346,347,350,351,352,354,360,361,362,363,364,365,366,367,368,369,370,371,373,375,376,377,378,379,380,381,382,383,384,385,386,387,388,389,390,391,392,393,394,395,396,397,398,399,400,401,402,403,404,405,406,409,410,411,412,413,424,425,426,427,428,429,430,431,432,433,434,435,436,437,438,439,440,441,442,443,444,445,446,447,448,449,450,451,452,455,456,457,458,459,460,461,462,465,466,467,468,470,471,472,504,505,506,507,508,510,511,513,515,516,546,548,549,550,551,553,556,557,558,560,561,564,565,568,578,579,580,581,582,583,584,587,588,589,590,591,592,593,594,595,596,597,598,599,600,601,602,603,604,605,606,607,608,609,610,611,612,613,614,615,620,621,622,623,624,625,626,627,628,629,634,635,636,637,638,639,640,642,648,649,650,651,652,653,658,659,660,661,662,663,664,665,666,667,668,669,670,671,672,673,674,675,676,677,678,679,680,681,682,683,684,685,686,687,688,689,690,691,692,693,694,695,696,697,698,699,700,704,705,706,707,708,709,710,711,712,713,714,715,716,717,718,719,720,721,722,724,725,726,727,728,729,732,733,734,735,736,737,738,739,740,741,742,744,746,748,749,750,751,752,753,754,756,758,760,762,764,765,766,767,768,769,771,780,781,782,783,784,786,787,796,797,798,799,800,801,812,813,815,816,817,818,819,823,824,825,826,827,830,834,835,836,837,838,839,840,841,842,846,850,853,854,855,859,860,864,865,866,868,869,870,871,872,873,874,875,876,877,878,879,880,881,882,883,884,885,886,887,888,889,890,891,892,893,894,895,896,897,898,899,901,902,903,904,905,906,907,908,909,910,911,912,913,914,915,916,918,919,920,921,922,923,924,925,926,927,928,929,930,931,934,935,936,940,945,947,948,949,950,951,952,953,954,955,956,957,958,959,960,961,962,963,964,965,966,967,968,969,970,971,972,973,974,975,976,977,978,980,981,982,983,996,997,998,999,1001,1002,1003,1004,1005,1006,1007,1008,1009,1010,1011,1012,1013,1014,1015,1016,1017,1018,1019,1020,1021,1022,1023,1024,1025,1026,1027,1028,1029,1030,1031,1032,1033,1034,1035,1036,1037,1039,1044,1052,1053,1054,1055,1056,1057,1058,1059,1060,1061,1062,1064,1065,1066,1067,1069,1071,1072,1073,1074,1075,1076,1077,1078,1079,1080,1081,1082,1083,1084,1085,1086,1095,1106,1107,1108,1109,1110,1111,1112,1113,1114,1115,1116,1117,1118,1119,1120,1122,1123,1124,1125,1126,1127,1128,1129,1130,1131,1132,1133,1134,1135,1136,1137,1139,1140,1141,1143,1144,1145,1146,1147,1148,1149,1150,1151,1152,1153,1154,1155,1156,1157,1158,1159,1160,1161,1162,1163,1164,1165,1166,1167,1168,1169,1170,1171,1172,1173,1174,1175,1176,1177,1178,1179,1180,1181,1182,1183,1184,1185,1186,1187,1188,1189,1190,1191,1192,1194,1195,1196,1197,1198,1199,1200,1201,1202,1203,1204,1205,1206,1207,1208,1209,1210,1212,1213,1214,1215,1216,1217,1218,1219,1220,1221,1222,1223,1224,1225,1226,1227,1228,1229,1230,1231,1232,1233,1234,1235,1236,1237,1238,1239,1240,1241,1242,1244,1245,1246,1247,1248,1249,1252,1253,1254,1255,1256,1257,1260,1261,1262,1264,1265,1266,1267,1268,1269,1270,1271,1272,1273,1274,1275,1276,1277,1278,1279,1280,1281,1282,1283,1284,1285,1286,1287,1288,1289,1290,1291,1292,1293,1294,1295,1296,1297,1298,1299,1300,1301,1302,1303,1304,1305,1306,1307,1308,1309,1311,1312,1313,1316,1317,1319,1320,1321,1322,1324,1325,1326,1327,1328,1329,1330,1331,1332,1333,1334,1336,1339,1340,1341,1342,1343,1344,1345,1346,1347,1348,1349,1350,1351,1353,1354,1355,1356,1357,1358,1359,1360,1361,1362,1363,1365,1366,1367,1368,1369,1373,1374,1375,1376,1377,1380,1381,1383,1385,1386,1387,1388,1389,1390,1391,1392,1393,1394,1395,1396,1397,1398,1399,1400,1401,1402,1403,1404,1405,1406,1407,1408,1409,1410,1411,1412,1413,1414,1415,1416,1417,1418,1419,1420,1421,1422,1423,1424,1425,1426,1427,1428,1429,1430,1431,1432,1433,1434,1435,1436,1437,1438,1439,1440,1441,1442,1443,1444,1445,1446,1447,1448,1449,1450,1451,1452,1453,1454,1455,1456,1457,1458,1459,1460,1461,1462,1463,1464,1465,1466,1467,1468,1475,1476,1480,1481,1482,1483,1484,1485,1486,1487,1488,1489,1490,1491,1492,1493,1494,1495,1496,1497,1498,1499,1500,1501,1505,1518,1519,1520,1521,1522,1523,1524,1525,1526,1527,1528,1529,1530,1531,1532,1533,1534,1536,1537,1538,1539,1540,1541,1542,1543,1544,1546,1547,1548,1549,1551,1552,1553,1555,1556,1559,1560,1561,1563,1565,1566,1567,1568,1569,1573,1574,1575,1576,1578,1579,1580,1581,1585,1586,1587,1588,1589,1590,1591,1592,1593,1595,1596,1597,1598,1599,1600,1603,1604,1605,1606,1608,1609,1610,1611,1612,1616,1617,1620,1622,1623,1624,1625,1626,1627,1628,1629,1630,1631,1635,1636,1637,1638,1639,1640,1641,1642,1644,1645,1646,1647,1648,1649,1650,1651,1652,1653,1654,1655,1656,1657,1658,1659,1660,1661,1662,1663,1664,1665,1666,1667,1668,1669,1670,1671,1672,1673,1675,1676,1677,1678,1679,1680,1681,1682,1684,1686,1687,1688,1689,1690,1691,1693,1695,1697,1698,1699,1700,1701,1702,1703,1704,1706,1708,1709,1710,1711,1712,1713,1714,1715,1717,1719,1720,1721,1722,1723,1724,1725,1726,1727,1728,1730,1731,1732,1733,1734,1735,1736,1737,1738,1739,1741,1742,1743,1744,1745,1746,1747,1748,1749,1750,1752,1753,1754,1755,1756,1757,1759,1761,1763,1764,1765,1766,1767,1768,1770,1772,1774,1775,1776,1777,1778,1779,1781,1783,1784,1785,1786,1787,1788,1789,1790,1791,1801,1802,1803,1804,1805,1806,1807,1808,1809,1810,1811,1812,1813,1814,1815,1816,1817,1818,1819,1820,1821,1822,1823,1824,1825,1826,1827,1828,1829,1830,1831,1832,1833,1834,1835,1836,1841,1842,1843,1844,1845,1850,1851,1873,1874,1875,1876,1877,1878,1879,1880,1881,1882,1883,1884,1885,1886,1887,1888,1889,1890,1891,1892,1893,1894,1895,1896,1897,1898,1899,1900,1901,1902,1903,1904,1905,1906,1908,1909,1910,1915,1920,1925,1926,1927,1928,1929,1930,1931,1932,1933,1934,1935,1937,1939,1940,1942,1944,1945,1947,1949,1950,1991,1992,1993,1994,1995,1996,1997,1998,1999,2001,2002,2003,2004,2005,2007,2008,2009,2010,2012,2013,2014,2015,2016,2023,2049,2050,2051,2053,2054,2055,2056,2057,2058,2059,2060,2061,2062,2063,2064,2065,2070,2075,2076,2077,2078,2079,2080,2081,2082,2083,2085,2086,2087,2088,2089,2090,2091,2092,2093,2104,2105,2106,2107,2108,2109,2110,2111,2112,2113,2114,2116,2117,2118,2119,2120,2121,2123,2124,2125,2126,2127,2128,2129,2131,2132,2133,2138,2139,2140,2141,2142,2143,2144,2145,2153,2155,2156,2157,2158,2159,2160,2161,2163,2164,2165,2166,2167,2168,2175,2176,2183,2184,2185,2186,2187,2188,2189,2190,2191,2192,2193,2199,2200,2201,2202,2203,2204,2205,2206,2207,2208,2209,2210,2211,2212,2213,2214,2215,2216,2217,2218,2219,2220,2221,2223,2224,2225,2226,2227,2228,2229,2230,2231,2232,2233,2234,2235,2236,2238,2239,2240,2241,2242,2244,2245,2246,2247,2248,2249,2250,2251,2252,2253,2254,2255,2256,2257,2258,2259,2260,2261,2262,2263,2264,2265,2266,2267,2268,2271,2273,2274,2278,2279,2286,2287,2291,2292,2293,2294,2295,2296,2297,2304,2305,2306,2307,2308,2310,2311,2312,2314,2316,2317,2319,2320,2321,2322,2323,2324,2325,2326,2327,2328,2329,2330,2331,2332,2333,2335,2336,2337,2338,2339,2340,2341,2342,2343,2344,2345,2346,2347,2351,2352,2353,2354,2355,2356,2357,2358,2359,2360,2361,2362,2363,2364,2365,2366,2371,2372,2373,2375,2376,2377,2378,2381,2383,2384,2385,2386,2387,2388,2389,2390,2391,2392,2393,2394,2398,2400,2401,2402,2403,2404,2405,2406,2407,2408,2409,2412,2413,2414,2418,2419,2420,2425,2426,2427,2429,2430,2431,2433,2434,2435,2436,2437,2438,2439,2441,2442,2443,2444,2445,2446,2447,2448,2449,2450,2451,2452,2453,2454,2455,2456,2457,2458,2459,2460,2461,2462,2464,2465,2466,2467,2468,2473,2474,2481,2482,2483,2484,2485,2486,2487,2488,2489,2490,2491,2492,2493,2494) have mixed types.Specify dtype option on import or set low_memory=False.\n",
            "  interactivity=interactivity, compiler=compiler, result=result)\n"
          ],
          "name": "stderr"
        }
      ]
    },
    {
      "cell_type": "code",
      "metadata": {
        "colab": {
          "base_uri": "https://localhost:8080/"
        },
        "id": "iLOjm4flgag7",
        "outputId": "b044551d-2b38-4585-9fa7-82d842629cc9"
      },
      "source": [
        "#Checking for outliers - Entire Data Set\n",
        "print(df_ei.columns)\n",
        "\n",
        "q_low = df_ei[\"Annual Household Income 2019\"].quantile(#)\n",
        "q_hi = df_ei[\"Annual Household Income 2019\"].quantile(#)\n",
        "print(q_low,q_hi)\n",
        "\n",
        "df_filtered = df_ei[(df_ei[\"Annual Household Income 2019\"] < q_hi) & (df_ei[\"Annual Household Income 2019\"] > q_low)]\n",
        "print(df_filtered)\n",
        "\n",
        "#Find the mean of Annual HouseholdIncome\n",
        "mean=df_filtered.groupby('Study')[\"Annual Household Income 2019\"].mean()\n",
        "print(mean)\n",
        "\n",
        "#df_filtered.to_csv('Outlier-95pct.csv')"
      ],
      "execution_count": null,
      "outputs": [
        {
          "output_type": "stream",
          "text": [
            "Index(['ID', 'Upazila', 'Study', 'Did you save money?',\n",
            "       'Annual Household Income 2019', 'Number of Cow', 'Number of Buffalo',\n",
            "       'Number of Goat', 'Number of Sheep', 'Number of Chicken',\n",
            "       'Number of Duck'],\n",
            "      dtype='object')\n",
            "80000.0 308000.0\n",
            "        ID     Upazila  ... Number of Chicken Number of Duck\n",
            "6        6  Khaliajuri  ...                 5            NaN\n",
            "7        7  Khaliajuri  ...               NaN            NaN\n",
            "9        9  Khaliajuri  ...                15            NaN\n",
            "10      10        Itna  ...                 8            NaN\n",
            "11      11        Itna  ...                20            NaN\n",
            "...    ...         ...  ...               ...            ...\n",
            "1559  1559        Itna  ...              10.0            9.0\n",
            "1560  1560   Mithamain  ...               2.0            NaN\n",
            "1561  1561        Itna  ...               NaN            NaN\n",
            "1562  1562   Mithamain  ...               NaN            NaN\n",
            "1566  1566       Madan  ...              10.0            NaN\n",
            "\n",
            "[1217 rows x 11 columns]\n",
            "Study\n",
            "IDP                157780.967105\n",
            "No Intervention    163801.773050\n",
            "Non-IDP            158401.590214\n",
            "Name: Annual Household Income 2019, dtype: float64\n"
          ],
          "name": "stdout"
        }
      ]
    },
    {
      "cell_type": "code",
      "metadata": {
        "colab": {
          "base_uri": "https://localhost:8080/"
        },
        "id": "XpWKZWqh4gSc",
        "outputId": "70d6ac3b-a884-47cd-e8ba-d14a45a202b0"
      },
      "source": [
        "Choosing Filters\n",
        "q_hi = df_ei[\"Annual Household Income 2019\"].quantile(0.90)\n",
        "print(q_low,q_hi)\n",
        "\n",
        "df_NI = df_ei[(df_ei[\"Annual Household Income 2019\"] < q_hi) & (df_ei[\"Group\"] ==\"Group Name\")]\n",
        "print(df_NI)\n",
        "\n",
        "mean=df_NI.groupby('Group')[\"Annual Household Income 2019\"].mean()\n",
        "print(mean)"
      ],
      "execution_count": null,
      "outputs": [
        {
          "output_type": "stream",
          "text": [
            "60000.0 308000.0\n",
            "        ID    Upazila  ... Number of Chicken Number of Duck\n",
            "13      13  Mithamain  ...                 4            NaN\n",
            "15      15  Mithamain  ...               NaN            NaN\n",
            "18      18  Mithamain  ...               NaN            NaN\n",
            "21      21  Mithamain  ...                10            NaN\n",
            "26      26        NaN  ...                 1            NaN\n",
            "...    ...        ...  ...               ...            ...\n",
            "1530  1530  Mithamain  ...                 1            NaN\n",
            "1543  1543  Mithamain  ...               7.0            NaN\n",
            "1546  1546  Mithamain  ...               2.0            7.0\n",
            "1560  1560  Mithamain  ...               2.0            NaN\n",
            "1562  1562  Mithamain  ...               NaN            NaN\n",
            "\n",
            "[302 rows x 11 columns]\n",
            "Study\n",
            "No Intervention    156740.066225\n",
            "Name: Annual Household Income 2019, dtype: float64\n"
          ],
          "name": "stdout"
        }
      ]
    },
    {
      "cell_type": "code",
      "metadata": {
        "colab": {
          "base_uri": "https://localhost:8080/"
        },
        "id": "6lH49RWQ7NCC",
        "outputId": "a7c602f2-800f-4ba0-d747-554e68af34c6"
      },
      "source": [
        "#Income of IDP\n",
        "q_low = df_ei[\"Annual Household Income 2019\"].quantile(0.05)\n",
        "print(q_low,q_hi)\n",
        "\n",
        "df_IDP = df_ei[(df_ei[\"Annual Household Income 2019\"] > q_low) & (df_ei[\"Group\"] ==\"Group Name\")]\n",
        "print(df_IDP)\n",
        "\n",
        "mean=df_IDP.groupby('Study')[\"Annual Household Income 2019\"].mean()\n",
        "print(mean)"
      ],
      "execution_count": null,
      "outputs": [
        {
          "output_type": "stream",
          "text": [
            "60000.0 308000.0\n",
            "        ID     Upazila Study  ... Number of Sheep  Number of Chicken Number of Duck\n",
            "0        0  Khaliajuri   IDP  ...             NaN                  6            NaN\n",
            "5        5  Khaliajuri   IDP  ...             NaN                 20            NaN\n",
            "6        6  Khaliajuri   IDP  ...             NaN                  5            NaN\n",
            "7        7  Khaliajuri   IDP  ...             NaN                NaN            NaN\n",
            "9        9  Khaliajuri   IDP  ...             NaN                 15            NaN\n",
            "...    ...         ...   ...  ...             ...                ...            ...\n",
            "1556  1556        Itna   IDP  ...             NaN                4.0           10.0\n",
            "1558  1558  Khaliajuri   IDP  ...             NaN                NaN            NaN\n",
            "1559  1559        Itna   IDP  ...             NaN               10.0            9.0\n",
            "1561  1561        Itna   IDP  ...             NaN                NaN            NaN\n",
            "1565  1565  Khaliajuri   IDP  ...             NaN                NaN            NaN\n",
            "\n",
            "[708 rows x 11 columns]\n",
            "Study\n",
            "IDP    175828.429379\n",
            "Name: Annual Household Income 2019, dtype: float64\n"
          ],
          "name": "stdout"
        }
      ]
    },
    {
      "cell_type": "code",
      "metadata": {
        "colab": {
          "base_uri": "https://localhost:8080/"
        },
        "id": "_amD_zlx7Xnc",
        "outputId": "1c3cb8ae-1df6-4d8e-ca14-dcfb29f293f2"
      },
      "source": [
        "#Income of Non-IDP\n",
        "q_hi = df_ei[\"Annual Household Income 2019\"].quantile(0.99)\n",
        "print(q_low,q_hi)\n",
        "\n",
        "df_NIP = df_ei[(df_ei[\"Annual Household Income 2019\"] < q_hi) & (df_ei[\"Group\"] ==\"Group Name\")]\n",
        "print(df_NIP)\n",
        "\n",
        "mean=df_NIP.groupby('Study')[\"Annual Household Income 2019\"].mean()\n",
        "print(mean)"
      ],
      "execution_count": null,
      "outputs": [
        {
          "output_type": "stream",
          "text": [
            "60000.0 714000.0000000009\n",
            "        ID    Upazila    Study  ... Number of Sheep  Number of Chicken Number of Duck\n",
            "16      16  Austogram  Non-IDP  ...             NaN                  4            NaN\n",
            "22      22  Austogram  Non-IDP  ...             NaN                  4            NaN\n",
            "27      27  Austogram  Non-IDP  ...             NaN                  4              4\n",
            "31      31  Austogram  Non-IDP  ...             NaN                NaN            NaN\n",
            "34      34  Austogram  Non-IDP  ...             NaN                  3             10\n",
            "...    ...        ...      ...  ...             ...                ...            ...\n",
            "1550  1550      Sulla  Non-IDP  ...             NaN                6.0            NaN\n",
            "1553  1553      Sulla  Non-IDP  ...             NaN                NaN            NaN\n",
            "1557  1557  Austogram  Non-IDP  ...             NaN                4.0            7.0\n",
            "1564  1564      Madan  Non-IDP  ...             NaN                NaN            NaN\n",
            "1566  1566      Madan  Non-IDP  ...             NaN               10.0            NaN\n",
            "\n",
            "[426 rows x 11 columns]\n",
            "Study\n",
            "Non-IDP    169568.591549\n",
            "Name: Annual Household Income 2019, dtype: float64\n"
          ],
          "name": "stdout"
        }
      ]
    },
    {
      "cell_type": "code",
      "metadata": {
        "colab": {
          "base_uri": "https://localhost:8080/"
        },
        "id": "jjaqY05lKFfv",
        "outputId": "db61893c-c900-4b7f-8591-e8d224110a24"
      },
      "source": [
        "list=[df_IDP,df_NI]\n",
        "\n",
        "df_new=df_NIP.append(list, ignore_index=False)\n",
        "\n",
        "df_new_1=df_new.sort_values(by=['ID'])\n",
        "print(df_new_1)\n",
        "\n",
        "mean=df_new_1.groupby('Study')[\"Annual Household Income 2019\"].mean()\n",
        "print(mean)\n",
        "\n",
        "df_new_1.to_csv('File.csv')"
      ],
      "execution_count": null,
      "outputs": [
        {
          "output_type": "stream",
          "text": [
            "        ID     Upazila  ... Number of Chicken Number of Duck\n",
            "0        0  Khaliajuri  ...                 6            NaN\n",
            "5        5  Khaliajuri  ...                20            NaN\n",
            "6        6  Khaliajuri  ...                 5            NaN\n",
            "7        7  Khaliajuri  ...               NaN            NaN\n",
            "9        9  Khaliajuri  ...                15            NaN\n",
            "...    ...         ...  ...               ...            ...\n",
            "1561  1561        Itna  ...               NaN            NaN\n",
            "1562  1562   Mithamain  ...               NaN            NaN\n",
            "1564  1564       Madan  ...               NaN            NaN\n",
            "1565  1565  Khaliajuri  ...               NaN            NaN\n",
            "1566  1566       Madan  ...              10.0            NaN\n",
            "\n",
            "[1436 rows x 11 columns]\n",
            "Study\n",
            "IDP                175828.429379\n",
            "No Intervention    156740.066225\n",
            "Non-IDP            169568.591549\n",
            "Name: Annual Household Income 2019, dtype: float64\n"
          ],
          "name": "stdout"
        }
      ]
    },
    {
      "cell_type": "code",
      "metadata": {
        "colab": {
          "base_uri": "https://localhost:8080/"
        },
        "id": "-_kDawZUOew0",
        "outputId": "30ba1f46-294a-4f35-a7b3-033c08355ead"
      },
      "source": [
        "#Merge Raw Data Set with Dataset that does not have outliers\n",
        "\n",
        "df_subset=df_new_1.merge(df_1, on=['ID', 'Upazila','Study'], how='inner')\n",
        "print(df_subset)\n",
        "\n",
        "df_subset.to_csv('File.csv')"
      ],
      "execution_count": null,
      "outputs": [
        {
          "output_type": "stream",
          "text": [
            "        ID  ... ÃÂ Marital status of the respondent\n",
            "0        0  ...                                  NaN\n",
            "1        5  ...                                  NaN\n",
            "2        6  ...                                  NaN\n",
            "3        7  ...                                  NaN\n",
            "4        9  ...                                  NaN\n",
            "...    ...  ...                                  ...\n",
            "1431  1561  ...                              Married\n",
            "1432  1562  ...                              Married\n",
            "1433  1564  ...                              Married\n",
            "1434  1565  ...                              Married\n",
            "1435  1566  ...                              Married\n",
            "\n",
            "[1436 rows x 2504 columns]\n"
          ],
          "name": "stdout"
        }
      ]
    }
  ]
}